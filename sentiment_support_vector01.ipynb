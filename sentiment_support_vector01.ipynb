{
  "cells": [
    {
      "cell_type": "code",
      "execution_count": 1,
      "metadata": {
        "id": "rd_qR-70_Xc0"
      },
      "outputs": [],
      "source": [
        "#import necessary libraries\n",
        "import pandas as pd\n",
        "import numpy as np\n",
        "import matplotlib.pyplot as plt\n",
        "import seaborn as sns\n",
        "from sklearn.model_selection import train_test_split\n",
        "from sklearn.preprocessing import LabelEncoder\n",
        "from sklearn.feature_extraction.text import TfidfVectorizer\n",
        "from sklearn.svm import SVC\n",
        "from sklearn.metrics import accuracy_score, classification_report, confusion_matrix, precision_recall_fscore_support\n",
        "import re\n",
        "import nltk\n",
        "from nltk.corpus import stopwords\n",
        "from nltk.stem import WordNetLemmatizer\n",
        "from nltk.tokenize import word_tokenize\n",
        "import string\n",
        "import time\n",
        "import warnings\n",
        "warnings.filterwarnings('ignore')\n",
        "#set random seed for reproducibility\n",
        "np.random.seed(42)"
      ]
    },
    {
      "cell_type": "markdown",
      "metadata": {
        "id": "NH3OLr5d_rit"
      },
      "source": [
        "#Download NLTK resources"
      ]
    },
    {
      "cell_type": "code",
      "execution_count": 2,
      "metadata": {
        "colab": {
          "base_uri": "https://localhost:8080/"
        },
        "id": "k9M3wtcs_wUV",
        "outputId": "ea88a01d-84f4-4bc0-b790-0025bd34629a"
      },
      "outputs": [
        {
          "data": {
            "text/plain": [
              "True"
            ]
          },
          "execution_count": 2,
          "metadata": {},
          "output_type": "execute_result"
        }
      ],
      "source": [
        "nltk.download('punkt_tab', quiet=True)\n",
        "nltk.download('stopwords', quiet=True)\n",
        "nltk.download('wordnet', quiet=True)"
      ]
    },
    {
      "cell_type": "markdown",
      "metadata": {
        "id": "rNJsP63G_3fk"
      },
      "source": [
        "#Load Dataset"
      ]
    },
    {
      "cell_type": "code",
      "execution_count": 3,
      "metadata": {
        "colab": {
          "base_uri": "https://localhost:8080/"
        },
        "id": "XN1SOk0m_7FU",
        "outputId": "b191edd3-8b05-4378-8dad-f6a374db6ca7"
      },
      "outputs": [
        {
          "name": "stdout",
          "output_type": "stream",
          "text": [
            "Mounted at /content/drive\n"
          ]
        }
      ],
      "source": [
        "from google.colab import drive\n",
        "#mount google drive\n",
        "drive.mount('/content/drive')\n",
        "\n",
        "#load dataset\n",
        "df = pd.read_csv('/content/drive/MyDrive/ML_twitter_dataset/twitter.csv',\n",
        "                 header=None,\n",
        "                 names=['tweet_record_id', 'entity', 'sentiment', 'tweet_description'])"
      ]
    },
    {
      "cell_type": "code",
      "execution_count": 4,
      "metadata": {
        "colab": {
          "base_uri": "https://localhost:8080/"
        },
        "id": "Rj39cb3UAKyc",
        "outputId": "49d78c37-91fc-4326-ae8b-f732e3a2b06a"
      },
      "outputs": [
        {
          "name": "stdout",
          "output_type": "stream",
          "text": [
            "\n",
            "Dataset Information\n",
            "Number of rows: 74682\n",
            "Number of columns: 4\n",
            "\n",
            "Column names:\n",
            "['tweet_record_id', 'entity', 'sentiment', 'tweet_description']\n",
            "\n",
            "First few rows of the dataset:\n",
            "   tweet_record_id       entity sentiment  \\\n",
            "0             2401  Borderlands  Positive   \n",
            "1             2401  Borderlands  Positive   \n",
            "2             2401  Borderlands  Positive   \n",
            "3             2401  Borderlands  Positive   \n",
            "4             2401  Borderlands  Positive   \n",
            "\n",
            "                                   tweet_description  \n",
            "0  im getting on borderlands and i will murder yo...  \n",
            "1  I am coming to the borders and I will kill you...  \n",
            "2  im getting on borderlands and i will kill you ...  \n",
            "3  im coming on borderlands and i will murder you...  \n",
            "4  im getting on borderlands 2 and i will murder ...  \n"
          ]
        }
      ],
      "source": [
        "#display basic info\n",
        "print(\"\\nDataset Information\")\n",
        "print(f\"Number of rows: {df.shape[0]}\")\n",
        "print(f\"Number of columns: {df.shape[1]}\")\n",
        "print(\"\\nColumn names:\")\n",
        "print(df.columns.tolist())\n",
        "print(\"\\nFirst few rows of the dataset:\")\n",
        "print(df.head())"
      ]
    },
    {
      "cell_type": "code",
      "execution_count": 5,
      "metadata": {
        "colab": {
          "base_uri": "https://localhost:8080/"
        },
        "id": "RWOSELNUAfMM",
        "outputId": "817ae1a1-6e5e-4465-e645-24cfb4e1834e"
      },
      "outputs": [
        {
          "name": "stdout",
          "output_type": "stream",
          "text": [
            "\n",
            "Unique sentiment values:\n",
            "['Positive' 'Neutral' 'Negative' 'Irrelevant']\n",
            "Count of unique sentiment values: 4\n",
            "\n",
            "Sentiment value counts:\n",
            "sentiment\n",
            "Negative      22542\n",
            "Positive      20832\n",
            "Neutral       18318\n",
            "Irrelevant    12990\n",
            "Name: count, dtype: int64\n"
          ]
        }
      ],
      "source": [
        "#rename columns for clarity based on their content\n",
        "df.columns = ['tweet_id', 'entity', 'sentiment', 'tweet_text']\n",
        "\n",
        "#display unique values in sentiment column\n",
        "print(\"\\nUnique sentiment values:\")\n",
        "print(df['sentiment'].unique())\n",
        "print(f\"Count of unique sentiment values: {df['sentiment'].nunique()}\")\n",
        "print(\"\\nSentiment value counts:\")\n",
        "sentiment_counts = df['sentiment'].value_counts()\n",
        "print(sentiment_counts)"
      ]
    },
    {
      "cell_type": "markdown",
      "metadata": {
        "id": "orRfz1tnAv1V"
      },
      "source": [
        "#Data Cleaning"
      ]
    },
    {
      "cell_type": "code",
      "execution_count": null,
      "metadata": {
        "colab": {
          "base_uri": "https://localhost:8080/"
        },
        "id": "NQQ-KASNA0d9",
        "outputId": "017da314-fcc2-42cb-f60d-3369c5ba484f"
      },
      "outputs": [
        {
          "name": "stdout",
          "output_type": "stream",
          "text": [
            "Number of duplicate rows: 2700\n",
            "Removed 2700 duplicate rows. New shape: (71982, 4)\n",
            "Total missing values: 326\n",
            "Removed rows with missing values. New shape: (71656, 4)\n"
          ]
        }
      ],
      "source": [
        "#check for duplicates\n",
        "duplicates = df.duplicated().sum()\n",
        "print(f\"Number of duplicate rows: {duplicates}\")\n",
        "\n",
        "#remove duplicates if any\n",
        "if duplicates > 0:\n",
        "    df = df.drop_duplicates()\n",
        "    print(f\"Removed {duplicates} duplicate rows. New shape: {df.shape}\")\n",
        "\n",
        "#check for and handle missing values\n",
        "missing_values = df.isnull().sum().sum()\n",
        "print(f\"Total missing values: {missing_values}\")\n",
        "\n",
        "if missing_values > 0:\n",
        "    #fill missing values or drop rows with missing values\n",
        "    df = df.dropna()\n",
        "    print(f\"Removed rows with missing values. New shape: {df.shape}\")\n",
        "\n",
        "#function to clean data\n",
        "def clean_text(text):\n",
        "    \"\"\"Clean and preprocess text data\"\"\"\n",
        "    # Check if the input is a string\n",
        "    if not isinstance(text, str):\n",
        "        return \"\"\n",
        "\n",
        "    # Convert to lowercase\n",
        "    text = text.lower()\n",
        "\n",
        "    # Remove URLs\n",
        "    text = re.sub(r'http\\S+|www\\S+|https\\S+', '', text)\n",
        "\n",
        "    # Remove mentions and hashtags\n",
        "    text = re.sub(r'@\\w+|\\#\\w+', '', text)\n",
        "\n",
        "    # Remove punctuation\n",
        "    text = re.sub(f'[{string.punctuation}]', ' ', text)\n",
        "\n",
        "    # Remove numbers\n",
        "    text = re.sub(r'\\d+', '', text)\n",
        "\n",
        "    # Remove extra whitespace\n",
        "    text = re.sub(r'\\s+', ' ', text).strip()\n",
        "\n",
        "    # Tokenize\n",
        "    tokens = word_tokenize(text)\n",
        "\n",
        "    # Remove stopwords\n",
        "    stop_words = set(stopwords.words('english'))\n",
        "    tokens = [word for word in tokens if word not in stop_words]\n",
        "\n",
        "    # Lemmatize\n",
        "    lemmatizer = WordNetLemmatizer()\n",
        "    tokens = [lemmatizer.lemmatize(word) for word in tokens]\n",
        "\n",
        "    return ' '.join(tokens)"
      ]
    },
    {
      "cell_type": "code",
      "execution_count": 7,
      "metadata": {
        "colab": {
          "base_uri": "https://localhost:8080/"
        },
        "id": "HrW34IUPBZae",
        "outputId": "5221d62c-3fcb-4323-92c4-9daceb938e57"
      },
      "outputs": [
        {
          "name": "stdout",
          "output_type": "stream",
          "text": [
            "\n",
            "Examples of original and cleaned text:\n",
            "\n",
            "Original: im getting on borderlands and i will murder you all ,\n",
            "Cleaned: im getting borderland murder\n",
            "\n",
            "Original: I am coming to the borders and I will kill you all,\n",
            "Cleaned: coming border kill\n",
            "\n",
            "Original: im getting on borderlands and i will kill you all,\n",
            "Cleaned: im getting borderland kill\n",
            "\n",
            "Original: im coming on borderlands and i will murder you all,\n",
            "Cleaned: im coming borderland murder\n",
            "\n",
            "Original: im getting on borderlands 2 and i will murder you me all,\n",
            "Cleaned: im getting borderland murder\n",
            "Found 1642 rows with empty cleaned text. Removing them...\n",
            "New shape after removing empty text: (70014, 5)\n",
            "\n",
            "Sentiment distribution after cleaning\n",
            "sentiment\n",
            "Negative      21254\n",
            "Positive      19223\n",
            "Neutral       17254\n",
            "Irrelevant    12283\n",
            "Name: count, dtype: int64\n",
            "\n",
            "Sentiment encoding mapping\n",
            "Irrelevant: 0\n",
            "Negative: 1\n",
            "Neutral: 2\n",
            "Positive: 3\n"
          ]
        }
      ],
      "source": [
        "#apply cleaning function to tweet text\n",
        "df['cleaned_text'] = df['tweet_text'].apply(clean_text)\n",
        "\n",
        "#display some examples of original and cleaned text\n",
        "print(\"\\nExamples of original and cleaned text:\")\n",
        "for i in range(5):\n",
        "    print(f\"\\nOriginal: {df['tweet_text'].iloc[i]}\")\n",
        "    print(f\"Cleaned: {df['cleaned_text'].iloc[i]}\")\n",
        "\n",
        "empty_text_count = (df['cleaned_text'] == '').sum()\n",
        "if empty_text_count > 0:\n",
        "    print(f\"Found {empty_text_count} rows with empty cleaned text. Removing them...\")\n",
        "    df = df[df['cleaned_text'] != '']\n",
        "    print(f\"New shape after removing empty text: {df.shape}\")\n",
        "\n",
        "#check the distribution of sentiments after cleaning\n",
        "print(\"\\nSentiment distribution after cleaning\")\n",
        "sentiment_distribution = df['sentiment'].value_counts()\n",
        "print(sentiment_distribution)\n",
        "\n",
        "#encode sentiment labels\n",
        "label_encoder = LabelEncoder()\n",
        "df['sentiment_encoded'] = label_encoder.fit_transform(df['sentiment'])\n",
        "\n",
        "#display the mapping of encodings\n",
        "print(\"\\nSentiment encoding mapping\")\n",
        "for i, label in enumerate(label_encoder.classes_):\n",
        "    print(f\"{label}: {i}\")"
      ]
    },
    {
      "cell_type": "markdown",
      "metadata": {
        "id": "SCVGvFM_B9Q_"
      },
      "source": [
        "#Feature extraction"
      ]
    },
    {
      "cell_type": "code",
      "execution_count": 8,
      "metadata": {
        "colab": {
          "base_uri": "https://localhost:8080/"
        },
        "id": "aqDqI0zEBDwP",
        "outputId": "4d92e17b-abf5-4af6-8945-10205429e3d1"
      },
      "outputs": [
        {
          "name": "stdout",
          "output_type": "stream",
          "text": [
            "Applying TF-IDF vectorization\n",
            "\n",
            "Feature matrix shape: (70014, 5000)\n"
          ]
        }
      ],
      "source": [
        "#extract features using TF-IDF\n",
        "print(\"Applying TF-IDF vectorization\")\n",
        "tfidf = TfidfVectorizer(max_features=5000)\n",
        "X = tfidf.fit_transform(df['cleaned_text'])\n",
        "y = df['sentiment_encoded']\n",
        "\n",
        "# Display the shape of the feature matrix\n",
        "print(f\"\\nFeature matrix shape: {X.shape}\")"
      ]
    },
    {
      "cell_type": "markdown",
      "metadata": {
        "id": "Lbak_CLxCC_o"
      },
      "source": [
        "#Split Data"
      ]
    },
    {
      "cell_type": "code",
      "execution_count": 9,
      "metadata": {
        "colab": {
          "base_uri": "https://localhost:8080/"
        },
        "id": "WfvuFa4jCHGc",
        "outputId": "5b362464-53de-474d-ea7d-8c39998b389c"
      },
      "outputs": [
        {
          "name": "stdout",
          "output_type": "stream",
          "text": [
            "Training set shape: (56011, 5000)\n",
            "Validation set shape: (14003, 5000)\n"
          ]
        }
      ],
      "source": [
        "X_train, X_val, y_train, y_val = train_test_split(X, y, test_size=0.2, random_state=42, stratify=y)\n",
        "print(f\"Training set shape: {X_train.shape}\")\n",
        "print(f\"Validation set shape: {X_val.shape}\")"
      ]
    },
    {
      "cell_type": "markdown",
      "metadata": {
        "id": "9pd9B03_CK6c"
      },
      "source": [
        "#Build model and evaluate"
      ]
    },
    {
      "cell_type": "code",
      "execution_count": 10,
      "metadata": {
        "colab": {
          "base_uri": "https://localhost:8080/"
        },
        "id": "fdKhDvmmCShE",
        "outputId": "a896f4f0-dbf3-4246-e862-a781775a52b3"
      },
      "outputs": [
        {
          "name": "stdout",
          "output_type": "stream",
          "text": [
            "\n",
            "Evaluating model on training data\n",
            "Training Accuracy: 0.7786\n",
            "Evaluating model on validation data\n",
            "Validation Accuracy: 0.7196\n",
            "\n",
            "Classification Report (Validation):\n",
            "              precision    recall  f1-score   support\n",
            "\n",
            "  Irrelevant       0.67      0.58      0.62      2456\n",
            "    Negative       0.73      0.81      0.77      4251\n",
            "     Neutral       0.74      0.66      0.70      3451\n",
            "    Positive       0.72      0.76      0.74      3845\n",
            "\n",
            "    accuracy                           0.72     14003\n",
            "   macro avg       0.71      0.70      0.71     14003\n",
            "weighted avg       0.72      0.72      0.72     14003\n",
            "\n"
          ]
        }
      ],
      "source": [
        "#SVM model\n",
        "svm_model = SVC(kernel='linear', probability=True, random_state=42)\n",
        "model_training_start = time.time()\n",
        "svm_model.fit(X_train, y_train)\n",
        "\n",
        "print(\"\\nEvaluating model on training data\")\n",
        "y_train_pred = svm_model.predict(X_train)\n",
        "train_accuracy = accuracy_score(y_train, y_train_pred)\n",
        "print(f\"Training Accuracy: {train_accuracy:.4f}\")\n",
        "\n",
        "# Evaluate on validation data\n",
        "print(\"Evaluating model on validation data\")\n",
        "y_val_pred = svm_model.predict(X_val)\n",
        "val_accuracy = accuracy_score(y_val, y_val_pred)\n",
        "print(f\"Validation Accuracy: {val_accuracy:.4f}\")\n",
        "\n",
        "#classification report for validation data\n",
        "print(\"\\nClassification Report (Validation):\")\n",
        "print(classification_report(y_val, y_val_pred, target_names=label_encoder.classes_))"
      ]
    },
    {
      "cell_type": "code",
      "execution_count": 13,
      "metadata": {
        "id": "_4eD3IDqH5Sf"
      },
      "outputs": [],
      "source": [
        "#compute precision, recall, and F1-score for training and validation\n",
        "train_precision, train_recall, train_f1, _ = precision_recall_fscore_support(y_train, y_train_pred, average='weighted')\n",
        "val_precision, val_recall, val_f1, _ = precision_recall_fscore_support(y_val, y_val_pred, average='weighted')"
      ]
    },
    {
      "cell_type": "markdown",
      "metadata": {
        "id": "jdh3H8kFCt_1"
      },
      "source": [
        "#Confusion matrix"
      ]
    },
    {
      "cell_type": "code",
      "execution_count": 14,
      "metadata": {
        "colab": {
          "base_uri": "https://localhost:8080/",
          "height": 807
        },
        "id": "zfJm0BpkCxsS",
        "outputId": "42000586-d39b-4ae5-9f73-9bcbd9adbd98"
      },
      "outputs": [
        {
          "data": {
            "image/png": "[encoded data removed]",
            "text/plain": [
              "<Figure size 1000x800 with 2 Axes>"
            ]
          },
          "metadata": {},
          "output_type": "display_data"
        }
      ],
      "source": [
        "#create confusion matrix\n",
        "cm = confusion_matrix(y_val, y_val_pred)\n",
        "\n",
        "#plot confusion matrix\n",
        "plt.figure(figsize=(10, 8))\n",
        "sns.heatmap(cm, annot=True, fmt='d', cmap='Blues',\n",
        "            xticklabels=label_encoder.classes_,\n",
        "            yticklabels=label_encoder.classes_)\n",
        "plt.title('Confusion Matrix')\n",
        "plt.ylabel('True Label')\n",
        "plt.xlabel('Predicted Label')\n",
        "plt.tight_layout()\n",
        "plt.savefig('confusion_matrix.png')\n",
        "plt.show()"
      ]
    },
    {
      "cell_type": "markdown",
      "metadata": {
        "id": "2psw3DzZM-09"
      },
      "source": [
        "#Summary"
      ]
    },
    {
      "cell_type": "code",
      "execution_count": 15,
      "metadata": {
        "colab": {
          "base_uri": "https://localhost:8080/"
        },
        "id": "vNy28PwANCW1",
        "outputId": "864a37d6-878b-423e-c87a-697973b317e5"
      },
      "outputs": [
        {
          "name": "stdout",
          "output_type": "stream",
          "text": [
            "\n",
            "Summary\n",
            "Dataset Size: 70014 rows, 6 columns\n",
            "Sentiment Classes: Irrelevant, Negative, Neutral, Positive\n",
            "Training Precision: 0.7788\n",
            "Validation Precision: 0.7187\n",
            "Training Recall: 0.7786\n",
            "Validation Recall: 0.7196\n",
            "Training F1-score: 0.7770\n",
            "Validation F1-score: 0.7174\n",
            "\n",
            "- Training Accuracy: 0.7786\n",
            "\n",
            "- Validation Accuracy: 0.7196\n"
          ]
        }
      ],
      "source": [
        "#final summary\n",
        "print(\"\\nSummary\")\n",
        "print(f\"Dataset Size: {df.shape[0]} rows, {df.shape[1]} columns\")\n",
        "print(f\"Sentiment Classes: {', '.join(label_encoder.classes_)}\")\n",
        "print(f\"Training Precision: {train_precision:.4f}\")\n",
        "print(f\"Validation Precision: {val_precision:.4f}\")\n",
        "print(f\"Training Recall: {train_recall:.4f}\")\n",
        "print(f\"Validation Recall: {val_recall:.4f}\")\n",
        "print(f\"Training F1-score: {train_f1:.4f}\")\n",
        "print(f\"Validation F1-score: {val_f1:.4f}\")\n",
        "\n",
        "print(f\"\\n- Training Accuracy: {train_accuracy:.4f}\")\n",
        "print(f\"\\n- Validation Accuracy: {val_accuracy:.4f}\")"
      ]
    },
    {
      "cell_type": "markdown",
      "metadata": {
        "id": "QmVPBjypCdxi"
      },
      "source": []
    }
  ],
  "metadata": {
    "colab": {
      "provenance": []
    },
    "kernelspec": {
      "display_name": "Python 3",
      "name": "python3"
    },
    "language_info": {
      "name": "python"
    }
  },
  "nbformat": 4,
  "nbformat_minor": 0
}
