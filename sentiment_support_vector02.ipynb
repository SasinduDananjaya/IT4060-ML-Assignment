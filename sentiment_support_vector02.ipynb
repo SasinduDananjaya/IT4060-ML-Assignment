{
  "cells": [
    {
      "cell_type": "markdown",
      "source": [
        "#Import necessary libraries"
      ],
      "metadata": {
        "id": "QQ984ATpGLoH"
      }
    },
    {
      "cell_type": "code",
      "execution_count": 3,
      "metadata": {
        "id": "5apDqpXLMKv4"
      },
      "outputs": [],
      "source": [
        "import pandas as pd\n",
        "import numpy as np\n",
        "import matplotlib.pyplot as plt\n",
        "import seaborn as sns\n",
        "from sklearn.model_selection import train_test_split, RandomizedSearchCV, StratifiedKFold\n",
        "from sklearn.preprocessing import LabelEncoder\n",
        "from sklearn.feature_extraction.text import TfidfVectorizer\n",
        "from sklearn.svm import LinearSVC  #using LinearSVC instead of SVC\n",
        "from sklearn.calibration import CalibratedClassifierCV\n",
        "from sklearn.metrics import accuracy_score, classification_report, confusion_matrix, precision_recall_fscore_support\n",
        "from sklearn.utils.class_weight import compute_class_weight\n",
        "import re\n",
        "import nltk\n",
        "from nltk.corpus import stopwords\n",
        "from nltk.stem import PorterStemmer  #using stemmer instead of lemmatizer\n",
        "from nltk.tokenize import word_tokenize\n",
        "import string\n",
        "import warnings\n",
        "warnings.filterwarnings('ignore')\n",
        "#set random seed for reproducibility\n",
        "np.random.seed(42)"
      ]
    },
    {
      "cell_type": "markdown",
      "source": [
        "#Download required NLTK resources"
      ],
      "metadata": {
        "id": "BgUFG5LELTre"
      }
    },
    {
      "cell_type": "code",
      "source": [
        "nltk.download('punkt', quiet=True)\n",
        "nltk.download('stopwords', quiet=True)\n",
        "nltk.download('punkt_tab', quiet=True)"
      ],
      "metadata": {
        "colab": {
          "base_uri": "https://localhost:8080/"
        },
        "id": "VU1CwjhpLa3N",
        "outputId": "45b645f2-859f-4d37-96f2-93ef6df603e0"
      },
      "execution_count": 4,
      "outputs": [
        {
          "output_type": "execute_result",
          "data": {
            "text/plain": [
              "True"
            ]
          },
          "metadata": {},
          "execution_count": 4
        }
      ]
    },
    {
      "cell_type": "markdown",
      "source": [
        "#Load Dataset"
      ],
      "metadata": {
        "id": "mqFgSWsHLoh-"
      }
    },
    {
      "cell_type": "code",
      "source": [
        "from google.colab import drive\n",
        "#mount google drive\n",
        "drive.mount('/content/drive')\n",
        "\n",
        "#load dataset\n",
        "df = pd.read_csv('/content/drive/MyDrive/ML_twitter_dataset/twitter.csv',\n",
        "                 header=None,\n",
        "                 names=['tweet_record_id', 'entity', 'sentiment', 'tweet_description'])"
      ],
      "metadata": {
        "colab": {
          "base_uri": "https://localhost:8080/"
        },
        "id": "9jMB-2hqLqlV",
        "outputId": "1727994c-d7ea-44db-ca9c-b291372535c8"
      },
      "execution_count": 5,
      "outputs": [
        {
          "output_type": "stream",
          "name": "stdout",
          "text": [
            "Mounted at /content/drive\n"
          ]
        }
      ]
    },
    {
      "cell_type": "code",
      "source": [
        "#Display basic information about the dataset\n",
        "print(\"\\nDataset Information\")\n",
        "print(f\"Number of rows: {df.shape[0]}\")\n",
        "print(f\"Number of columns: {df.shape[1]}\")\n",
        "print(\"\\nColumn names:\")\n",
        "print(df.columns.tolist())\n",
        "print(\"\\nFirst few rows of the dataset:\")\n",
        "print(df.head())"
      ],
      "metadata": {
        "colab": {
          "base_uri": "https://localhost:8080/"
        },
        "id": "T_FAIC_PL3nG",
        "outputId": "ebb4ea9a-e7d1-4197-8477-e7a1782edb56"
      },
      "execution_count": 6,
      "outputs": [
        {
          "output_type": "stream",
          "name": "stdout",
          "text": [
            "\n",
            "Dataset Information\n",
            "Number of rows: 74682\n",
            "Number of columns: 4\n",
            "\n",
            "Column names:\n",
            "['tweet_record_id', 'entity', 'sentiment', 'tweet_description']\n",
            "\n",
            "First few rows of the dataset:\n",
            "   tweet_record_id       entity sentiment  \\\n",
            "0             2401  Borderlands  Positive   \n",
            "1             2401  Borderlands  Positive   \n",
            "2             2401  Borderlands  Positive   \n",
            "3             2401  Borderlands  Positive   \n",
            "4             2401  Borderlands  Positive   \n",
            "\n",
            "                                   tweet_description  \n",
            "0  im getting on borderlands and i will murder yo...  \n",
            "1  I am coming to the borders and I will kill you...  \n",
            "2  im getting on borderlands and i will kill you ...  \n",
            "3  im coming on borderlands and i will murder you...  \n",
            "4  im getting on borderlands 2 and i will murder ...  \n"
          ]
        }
      ]
    },
    {
      "cell_type": "code",
      "source": [
        "#rename columns for clarity based on their content\n",
        "df.columns = ['tweet_id', 'entity', 'sentiment', 'tweet_text']\n",
        "\n",
        "#display unique values in sentiment column\n",
        "print(\"\\nUnique sentiment values:\")\n",
        "print(df['sentiment'].unique())\n",
        "print(f\"Count of unique sentiment values: {df['sentiment'].nunique()}\")\n",
        "print(\"\\nSentiment value counts:\")\n",
        "sentiment_counts = df['sentiment'].value_counts()\n",
        "print(sentiment_counts)"
      ],
      "metadata": {
        "colab": {
          "base_uri": "https://localhost:8080/"
        },
        "id": "PJQznrlZMHOm",
        "outputId": "8d4d6220-032f-4bcd-ad4e-1359a66efea5"
      },
      "execution_count": 7,
      "outputs": [
        {
          "output_type": "stream",
          "name": "stdout",
          "text": [
            "\n",
            "Unique sentiment values:\n",
            "['Positive' 'Neutral' 'Negative' 'Irrelevant']\n",
            "Count of unique sentiment values: 4\n",
            "\n",
            "Sentiment value counts:\n",
            "sentiment\n",
            "Negative      22542\n",
            "Positive      20832\n",
            "Neutral       18318\n",
            "Irrelevant    12990\n",
            "Name: count, dtype: int64\n"
          ]
        }
      ]
    },
    {
      "cell_type": "markdown",
      "source": [
        "#Data Cleaning"
      ],
      "metadata": {
        "id": "aG0F8K3qMjDt"
      }
    },
    {
      "cell_type": "code",
      "source": [
        "#check for duplicates\n",
        "duplicates = df.duplicated().sum()\n",
        "print(f\"Number of duplicate rows: {duplicates}\")\n",
        "\n",
        "#remove duplicates if any\n",
        "if duplicates > 0:\n",
        "    df = df.drop_duplicates()\n",
        "    print(f\"Removed {duplicates} duplicate rows. New shape: {df.shape}\")\n",
        "\n",
        "#check for and handle missing values\n",
        "missing_values = df.isnull().sum().sum()\n",
        "print(f\"Total missing values: {missing_values}\")\n",
        "\n",
        "if missing_values > 0:\n",
        "    #fill missing values or drop rows with missing values\n",
        "    df = df.dropna()\n",
        "    print(f\"Removed rows with missing values. New shape: {df.shape}\")\n",
        "\n",
        "#function to clean text\n",
        "def fast_clean_text(text):\n",
        "    if not isinstance(text, str):\n",
        "        return \"\"\n",
        "\n",
        "    #convert to lowercase\n",
        "    text = text.lower()\n",
        "\n",
        "    #remove URLs, mentions, and hashtags\n",
        "    text = re.sub(r'http\\S+|www\\S+|https\\S+|@\\w+|#\\w+', '', text)\n",
        "\n",
        "    #handle negations\n",
        "    text = re.sub(r\"n't\", \" not\", text)\n",
        "\n",
        "    #remove punctuation and normalize whitespace in one step\n",
        "    text = re.sub(r'[^\\w\\s]', ' ', text)\n",
        "    text = re.sub(r'\\s+', ' ', text).strip()\n",
        "\n",
        "    #tokenize\n",
        "    tokens = text.split()\n",
        "\n",
        "    #remove stopwords\n",
        "    stop_words = set(stopwords.words('english')) - {'no', 'not'}\n",
        "    tokens = [word for word in tokens if word not in stop_words]\n",
        "\n",
        "    #use stemming instead of lemmatization\n",
        "    stemmer = PorterStemmer()\n",
        "    tokens = [stemmer.stem(word) for word in tokens]\n",
        "\n",
        "    return ' '.join(tokens)\n",
        "\n",
        "#apply cleaning function to tweet text\n",
        "df['cleaned_text'] = df['tweet_text'].apply(fast_clean_text)\n",
        "\n",
        "#remove rows with empty cleaned text\n",
        "empty_text_count = (df['cleaned_text'] == '').sum()\n",
        "if empty_text_count > 0:\n",
        "    df = df[df['cleaned_text'] != '']\n",
        "    print(f\"Removed {empty_text_count} rows with empty cleaned text. New shape: {df.shape}\")\n",
        "\n",
        "#encode sentiment labels\n",
        "label_encoder = LabelEncoder()\n",
        "df['sentiment_encoded'] = label_encoder.fit_transform(df['sentiment'])\n",
        "\n",
        "#calculate class weights\n",
        "class_weights = compute_class_weight(\n",
        "    class_weight='balanced',\n",
        "    classes=np.unique(df['sentiment_encoded']),\n",
        "    y=df['sentiment_encoded']\n",
        ")\n",
        "class_weight_dict = {i: weight for i, weight in enumerate(class_weights)}"
      ],
      "metadata": {
        "colab": {
          "base_uri": "https://localhost:8080/"
        },
        "id": "uVuBxBBaMmsG",
        "outputId": "0d870920-ac0e-460b-de2e-1b2466656804"
      },
      "execution_count": 8,
      "outputs": [
        {
          "output_type": "stream",
          "name": "stdout",
          "text": [
            "Number of duplicate rows: 2700\n",
            "Removed 2700 duplicate rows. New shape: (71982, 4)\n",
            "Total missing values: 326\n",
            "Removed rows with missing values. New shape: (71656, 4)\n",
            "Removed 1565 rows with empty cleaned text. New shape: (70091, 5)\n"
          ]
        }
      ]
    },
    {
      "cell_type": "markdown",
      "source": [
        "#Feature extraction"
      ],
      "metadata": {
        "id": "-06aiIbKNUpF"
      }
    },
    {
      "cell_type": "code",
      "source": [
        "#TF-IDF vectorization\n",
        "print(\"TF-IDF vectorization\")\n",
        "tfidf = TfidfVectorizer(\n",
        "    max_features=10000,\n",
        "    ngram_range=(1, 3),\n",
        "    min_df=1,\n",
        "    max_df=0.9,\n",
        "    sublinear_tf=True\n",
        ")\n",
        "\n",
        "X = tfidf.fit_transform(df['cleaned_text'])\n",
        "y = df['sentiment_encoded']\n",
        "\n",
        "#display the shape of the feature matrix\n",
        "print(f\"\\nFeature matrix shape: {X.shape}\")"
      ],
      "metadata": {
        "colab": {
          "base_uri": "https://localhost:8080/"
        },
        "id": "balBKxMtNWhl",
        "outputId": "f891f78b-b3a4-4f4f-90e6-09b9fbb38e42"
      },
      "execution_count": 9,
      "outputs": [
        {
          "output_type": "stream",
          "name": "stdout",
          "text": [
            "TF-IDF vectorization\n",
            "\n",
            "Feature matrix shape: (70091, 10000)\n"
          ]
        }
      ]
    },
    {
      "cell_type": "markdown",
      "source": [
        "#Split Data"
      ],
      "metadata": {
        "id": "B1GC9I-6NqAe"
      }
    },
    {
      "cell_type": "code",
      "source": [
        "X_train, X_val, y_train, y_val = train_test_split(X, y, test_size=0.2, random_state=42, stratify=y)\n",
        "print(f\"Training set shape: {X_train.shape}\")\n",
        "print(f\"Validation set shape: {X_val.shape}\")"
      ],
      "metadata": {
        "colab": {
          "base_uri": "https://localhost:8080/"
        },
        "id": "vI0YVULJNr2V",
        "outputId": "3451f697-7c00-47a6-f272-d1968ab60c51"
      },
      "execution_count": 10,
      "outputs": [
        {
          "output_type": "stream",
          "name": "stdout",
          "text": [
            "Training set shape: (56072, 10000)\n",
            "Validation set shape: (14019, 10000)\n"
          ]
        }
      ]
    },
    {
      "cell_type": "markdown",
      "source": [
        "#Linear SVM Model"
      ],
      "metadata": {
        "id": "NyWBWx14N4ux"
      }
    },
    {
      "cell_type": "code",
      "source": [
        "# First, train a baseline model for comparison\n",
        "print(\"Training baseline LinearSVC model\")\n",
        "baseline_model = LinearSVC(random_state=42, max_iter=4000)\n",
        "baseline_model.fit(X_train, y_train)\n",
        "\n",
        "#evaluate baseline model\n",
        "y_train_pred_baseline = baseline_model.predict(X_train)\n",
        "y_val_pred_baseline = baseline_model.predict(X_val)\n",
        "\n",
        "train_accuracy_baseline = accuracy_score(y_train, y_train_pred_baseline)\n",
        "val_accuracy_baseline = accuracy_score(y_val, y_val_pred_baseline)\n",
        "\n",
        "print(f\"Baseline Training Accuracy: {train_accuracy_baseline:.4f}\")\n",
        "print(f\"Baseline Validation Accuracy: {val_accuracy_baseline:.4f}\")"
      ],
      "metadata": {
        "colab": {
          "base_uri": "https://localhost:8080/"
        },
        "id": "V_Z1lsqKN86g",
        "outputId": "c2b8437f-7e66-4d9c-f02d-d5e619f6c26e"
      },
      "execution_count": 11,
      "outputs": [
        {
          "output_type": "stream",
          "name": "stdout",
          "text": [
            "Training baseline LinearSVC model\n",
            "Baseline Training Accuracy: 0.8724\n",
            "Baseline Validation Accuracy: 0.7921\n"
          ]
        }
      ]
    },
    {
      "cell_type": "markdown",
      "source": [
        "#Apply Cross Validation"
      ],
      "metadata": {
        "id": "InKEaBYEOGNp"
      }
    },
    {
      "cell_type": "code",
      "source": [
        "#parameter grid\n",
        "param_distributions = {\n",
        "    'C': [1.0, 7.0, 7.5, 7.8, 10.0],\n",
        "    'class_weight': ['balanced', None],\n",
        "    'dual': [False],\n",
        "    'loss': ['squared_hinge', 'hinge'],\n",
        "    'tol': [0.0005, 0.0008, 0.001, 0.0015, 0.002, 0.0025]\n",
        "}\n",
        "\n",
        "cv = StratifiedKFold(n_splits=5, shuffle=True, random_state=42)\n",
        "\n",
        "#RandomizedSearchCV\n",
        "random_search = RandomizedSearchCV(\n",
        "    LinearSVC(random_state=42, max_iter=10000),\n",
        "    param_distributions=param_distributions,\n",
        "    n_iter=15,\n",
        "    cv=cv,\n",
        "    scoring='accuracy',\n",
        "    n_jobs=-1,\n",
        "    verbose=1,\n",
        "    random_state=42\n",
        ")\n",
        "\n",
        "#fit RandomizedSearchCV\n",
        "random_search.fit(X_train, y_train)\n",
        "\n",
        "print(f\"Best parameters: {random_search.best_params_}\")\n",
        "print(f\"Best cross-validation score: {random_search.best_score_:.4f}\")\n",
        "\n",
        "#get the best model\n",
        "best_model = random_search.best_estimator_"
      ],
      "metadata": {
        "colab": {
          "base_uri": "https://localhost:8080/"
        },
        "id": "x-8K4tV4OXHA",
        "outputId": "355deb5b-dedc-4535-e0d8-fd8b6db581a2"
      },
      "execution_count": 12,
      "outputs": [
        {
          "output_type": "stream",
          "name": "stdout",
          "text": [
            "Fitting 5 folds for each of 15 candidates, totalling 75 fits\n",
            "Best parameters: {'tol': 0.002, 'loss': 'squared_hinge', 'dual': False, 'class_weight': None, 'C': 7.0}\n",
            "Best cross-validation score: 0.7829\n"
          ]
        }
      ]
    },
    {
      "cell_type": "markdown",
      "source": [
        "#Evaluate the tuned model"
      ],
      "metadata": {
        "id": "52m367AZPCbw"
      }
    },
    {
      "cell_type": "code",
      "source": [
        "# Evaluate on training data\n",
        "y_train_pred = best_model.predict(X_train)\n",
        "train_accuracy = accuracy_score(y_train, y_train_pred)\n",
        "\n",
        "# Evaluate on validation data\n",
        "y_val_pred = best_model.predict(X_val)\n",
        "val_accuracy = accuracy_score(y_val, y_val_pred)\n",
        "\n",
        "# Calculate detailed metrics\n",
        "train_precision, train_recall, train_f1, _ = precision_recall_fscore_support(\n",
        "    y_train, y_train_pred, average='weighted'\n",
        ")\n",
        "val_precision, val_recall, val_f1, _ = precision_recall_fscore_support(\n",
        "    y_val, y_val_pred, average='weighted'\n",
        ")\n",
        "\n",
        "print(f\"Tuned Model Training Accuracy: {train_accuracy:.4f}\")\n",
        "print(f\"Tuned Model Validation Accuracy: {val_accuracy:.4f}\")\n",
        "print(f\"\\n\\nTraining Precision: {train_precision:.4f}\")\n",
        "print(f\"Training Recall: {train_recall:.4f}\")\n",
        "print(f\"Training F1-score: {train_f1:.4f}\")\n",
        "print(f\"\\n\\nValidation Precision: {val_precision:.4f}\")\n",
        "print(f\"Validation Recall: {val_recall:.4f}\")\n",
        "print(f\"Validation F1-score: {val_f1:.4f}\")\n",
        "\n",
        "#classification report for validation data\n",
        "print(\"\\nClassification Report (Validation):\")\n",
        "print(classification_report(y_val, y_val_pred, target_names=label_encoder.classes_))"
      ],
      "metadata": {
        "colab": {
          "base_uri": "https://localhost:8080/"
        },
        "id": "KXk8rwl9PEwf",
        "outputId": "686ae341-9068-482a-bd53-049ab4fa7e09"
      },
      "execution_count": 13,
      "outputs": [
        {
          "output_type": "stream",
          "name": "stdout",
          "text": [
            "Tuned Model Training Accuracy: 0.9021\n",
            "Tuned Model Validation Accuracy: 0.8036\n",
            "\n",
            "\n",
            "Training Precision: 0.9024\n",
            "Training Recall: 0.9021\n",
            "Training F1-score: 0.9020\n",
            "\n",
            "\n",
            "Validation Precision: 0.8032\n",
            "Validation Recall: 0.8036\n",
            "Validation F1-score: 0.8032\n",
            "\n",
            "Classification Report (Validation):\n",
            "              precision    recall  f1-score   support\n",
            "\n",
            "  Irrelevant       0.78      0.74      0.76      2460\n",
            "    Negative       0.83      0.85      0.84      4254\n",
            "     Neutral       0.80      0.78      0.79      3457\n",
            "    Positive       0.79      0.82      0.80      3848\n",
            "\n",
            "    accuracy                           0.80     14019\n",
            "   macro avg       0.80      0.80      0.80     14019\n",
            "weighted avg       0.80      0.80      0.80     14019\n",
            "\n"
          ]
        }
      ]
    },
    {
      "cell_type": "markdown",
      "source": [
        "#Learning Curve"
      ],
      "metadata": {
        "id": "MXHTJsOVRUb1"
      }
    },
    {
      "cell_type": "code",
      "source": [
        "from sklearn.model_selection import learning_curve\n",
        "\n",
        "#use best_model from your RandomizedSearchCV\n",
        "model_for_curve = best_model\n",
        "\n",
        "#define the training set sizes\n",
        "train_sizes, train_scores, val_scores = learning_curve(\n",
        "    estimator=model_for_curve,\n",
        "    X=X_train,\n",
        "    y=y_train,\n",
        "    cv=5,\n",
        "    scoring='accuracy',\n",
        "    train_sizes=np.linspace(0.1, 1.0, 10),\n",
        "    n_jobs=-1,\n",
        "    verbose=0\n",
        ")\n",
        "\n",
        "#calculate mean and standard deviation for training and validation scores\n",
        "train_scores_mean = np.mean(train_scores, axis=1)\n",
        "train_scores_std = np.std(train_scores, axis=1)\n",
        "val_scores_mean = np.mean(val_scores, axis=1)\n",
        "val_scores_std = np.std(val_scores, axis=1)\n",
        "\n",
        "#plot the learning curve\n",
        "plt.figure(figsize=(10, 6))\n",
        "plt.plot(train_sizes, train_scores_mean, 'o-', color='r', label='Training Accuracy')\n",
        "plt.plot(train_sizes, val_scores_mean, 'o-', color='g', label='Validation Accuracy')\n",
        "plt.fill_between(train_sizes,\n",
        "                 train_scores_mean - train_scores_std,\n",
        "                 train_scores_mean + train_scores_std,\n",
        "                 alpha=0.1, color='r')\n",
        "plt.fill_between(train_sizes,\n",
        "                 val_scores_mean - val_scores_std,\n",
        "                 val_scores_mean + val_scores_std,\n",
        "                 alpha=0.1, color='g')\n",
        "plt.title(\"Learning Curve\")\n",
        "plt.xlabel(\"Training Examples\")\n",
        "plt.ylabel(\"Accuracy\")\n",
        "plt.legend(loc=\"best\")\n",
        "plt.grid(True)\n",
        "plt.show()"
      ],
      "metadata": {
        "colab": {
          "base_uri": "https://localhost:8080/",
          "height": 564
        },
        "id": "_dmmVMQFRXoN",
        "outputId": "6c30b810-2e64-4790-eb9c-f63e962650bb"
      },
      "execution_count": 14,
      "outputs": [
        {
          "output_type": "display_data",
          "data": {
            "text/plain": [
              "<Figure size 1000x600 with 1 Axes>"
            ],
            "image/png": "[encoded data removed]"
          },
          "metadata": {}
        }
      ]
    },
    {
      "cell_type": "markdown",
      "source": [
        "#Confusion Matrix"
      ],
      "metadata": {
        "id": "fLV_e2lvPTZ_"
      }
    },
    {
      "cell_type": "code",
      "source": [
        "#create confusion matrix\n",
        "cm = confusion_matrix(y_val, y_val_pred)\n",
        "\n",
        "#plot confusion matrix\n",
        "plt.figure(figsize=(10, 8))\n",
        "sns.heatmap(cm, annot=True, fmt='d', cmap='Blues',\n",
        "            xticklabels=label_encoder.classes_,\n",
        "            yticklabels=label_encoder.classes_)\n",
        "plt.title('Confusion Matrix - Tuned Model')\n",
        "plt.ylabel('True Label')\n",
        "plt.xlabel('Predicted Label')\n",
        "plt.tight_layout()\n",
        "plt.savefig('tuned_confusion_matrix.png')\n",
        "plt.show()"
      ],
      "metadata": {
        "colab": {
          "base_uri": "https://localhost:8080/",
          "height": 807
        },
        "id": "MjVMioYiPWV3",
        "outputId": "2c0101b0-46f3-4354-9aab-a5209440e9e1"
      },
      "execution_count": 15,
      "outputs": [
        {
          "output_type": "display_data",
          "data": {
            "text/plain": [
              "<Figure size 1000x800 with 2 Axes>"
            ],
            "image/png": "[encoded data removed]"
          },
          "metadata": {}
        }
      ]
    },
    {
      "cell_type": "markdown",
      "source": [
        "#Summary"
      ],
      "metadata": {
        "id": "5PXs67SfPkfu"
      }
    },
    {
      "cell_type": "code",
      "source": [
        "improvement = (val_accuracy - val_accuracy_baseline) * 100\n",
        "\n",
        "print(\"\\nSummary\")\n",
        "print(f\"Dataset Size: {df.shape[0]} rows, {df.shape[1]} columns\")\n",
        "print(f\"Sentiment Classes: {', '.join(label_encoder.classes_)}\")\n",
        "print(f\"Best Model Parameters: {random_search.best_params_}\")\n",
        "print(\"\\n\\nPerformance Comparison:\")\n",
        "print(f\"Baseline Training Accuracy: {train_accuracy_baseline:.4f}\")\n",
        "print(f\"Baseline Validation Accuracy: {val_accuracy_baseline:.4f}\")\n",
        "print(f\"Tuned Model Training Accuracy: {train_accuracy:.4f}\")\n",
        "print(f\"Tuned Model Validation Accuracy: {val_accuracy:.4f}\")\n",
        "print(f\"Improvement in Validation Accuracy: {improvement:.2f}%\")\n",
        "print(f\"\\n\\nTuned Model Detailed Metrics:\")\n",
        "print(f\"Validation Precision: {val_precision:.4f}\")\n",
        "print(f\"Validation Recall: {val_recall:.4f}\")\n",
        "print(f\"Validation F1-score: {val_f1:.4f}\")"
      ],
      "metadata": {
        "colab": {
          "base_uri": "https://localhost:8080/"
        },
        "id": "Y_UBIg9GPl1n",
        "outputId": "4c4fcd0f-d278-4d89-a452-caef54dff765"
      },
      "execution_count": 16,
      "outputs": [
        {
          "output_type": "stream",
          "name": "stdout",
          "text": [
            "\n",
            "Summary\n",
            "Dataset Size: 70091 rows, 6 columns\n",
            "Sentiment Classes: Irrelevant, Negative, Neutral, Positive\n",
            "Best Model Parameters: {'tol': 0.002, 'loss': 'squared_hinge', 'dual': False, 'class_weight': None, 'C': 7.0}\n",
            "\n",
            "\n",
            "Performance Comparison:\n",
            "Baseline Training Accuracy: 0.8724\n",
            "Baseline Validation Accuracy: 0.7921\n",
            "Tuned Model Training Accuracy: 0.9021\n",
            "Tuned Model Validation Accuracy: 0.8036\n",
            "Improvement in Validation Accuracy: 1.15%\n",
            "\n",
            "\n",
            "Tuned Model Detailed Metrics:\n",
            "Validation Precision: 0.8032\n",
            "Validation Recall: 0.8036\n",
            "Validation F1-score: 0.8032\n"
          ]
        }
      ]
    }
  ],
  "metadata": {
    "colab": {
      "provenance": []
    },
    "kernelspec": {
      "display_name": "Python 3",
      "name": "python3"
    },
    "language_info": {
      "name": "python"
    }
  },
  "nbformat": 4,
  "nbformat_minor": 0
}